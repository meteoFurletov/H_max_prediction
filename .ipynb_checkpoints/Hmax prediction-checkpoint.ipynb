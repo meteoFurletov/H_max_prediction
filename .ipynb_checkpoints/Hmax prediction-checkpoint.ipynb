{
 "cells": [
  {
   "cell_type": "markdown",
   "id": "6da922d3",
   "metadata": {},
   "source": [
    "Import libraries"
   ]
  },
  {
   "cell_type": "code",
   "execution_count": 83,
   "id": "5de66adb",
   "metadata": {},
   "outputs": [],
   "source": [
    "import numpy as np\n",
    "from numpy import mean\n",
    "from numpy import std\n",
    "from numpy import hstack\n",
    "\n",
    "import pandas as pd\n",
    "\n",
    "import matplotlib.pyplot as plt\n",
    "from matplotlib import pyplot\n",
    "import seaborn as sns\n",
    "\n",
    "from sklearn.preprocessing import StandardScaler\n",
    "from sklearn.model_selection import train_test_split, KFold, \\\n",
    "    cross_val_score, RandomizedSearchCV, GridSearchCV, RepeatedKFold\n",
    "from sklearn.metrics import mean_absolute_error, r2_score, \\\n",
    "    median_absolute_error, mean_absolute_percentage_error\n",
    "\n",
    "from sklearn.ensemble import StackingRegressor\n",
    "from sklearn.linear_model import LinearRegression\n",
    "from sklearn.ensemble import RandomForestRegressor\n",
    "\n",
    "from scipy import stats\n",
    "from scipy.stats import norm, skew #for some statistics\n",
    "\n",
    "from catboost import CatBoostRegressor, Pool\n",
    "import catboost as cb\n",
    "\n",
    "import xgboost as xgb\n",
    "from xgboost import XGBRegressor\n",
    "\n",
    "import optuna"
   ]
  },
  {
   "cell_type": "markdown",
   "id": "8250388e",
   "metadata": {},
   "source": [
    "Data preprocessing"
   ]
  },
  {
   "cell_type": "code",
   "execution_count": 25,
   "id": "740be57c",
   "metadata": {
    "scrolled": true
   },
   "outputs": [
    {
     "data": {
      "text/html": [
       "<div>\n",
       "<style scoped>\n",
       "    .dataframe tbody tr th:only-of-type {\n",
       "        vertical-align: middle;\n",
       "    }\n",
       "\n",
       "    .dataframe tbody tr th {\n",
       "        vertical-align: top;\n",
       "    }\n",
       "\n",
       "    .dataframe thead th {\n",
       "        text-align: right;\n",
       "    }\n",
       "</style>\n",
       "<table border=\"1\" class=\"dataframe\">\n",
       "  <thead>\n",
       "    <tr style=\"text-align: right;\">\n",
       "      <th></th>\n",
       "      <th>H</th>\n",
       "      <th>Zmax</th>\n",
       "      <th>H_zmax</th>\n",
       "      <th>k1</th>\n",
       "      <th>H-1</th>\n",
       "      <th>Zmax -1</th>\n",
       "      <th>H_zmax -1</th>\n",
       "      <th>k1 -1</th>\n",
       "      <th>H -2</th>\n",
       "      <th>Zmax -2</th>\n",
       "      <th>H_zmax -2</th>\n",
       "      <th>k1 -2</th>\n",
       "      <th>H +1</th>\n",
       "    </tr>\n",
       "  </thead>\n",
       "  <tbody>\n",
       "    <tr>\n",
       "      <th>1</th>\n",
       "      <td>6750</td>\n",
       "      <td>30</td>\n",
       "      <td>3750</td>\n",
       "      <td>1.800000</td>\n",
       "      <td>5000</td>\n",
       "      <td>33</td>\n",
       "      <td>3750</td>\n",
       "      <td>1.333333</td>\n",
       "      <td>5500</td>\n",
       "      <td>33</td>\n",
       "      <td>4750</td>\n",
       "      <td>1.157895</td>\n",
       "      <td>9750</td>\n",
       "    </tr>\n",
       "    <tr>\n",
       "      <th>2</th>\n",
       "      <td>9750</td>\n",
       "      <td>36</td>\n",
       "      <td>5750</td>\n",
       "      <td>1.695652</td>\n",
       "      <td>6750</td>\n",
       "      <td>30</td>\n",
       "      <td>3750</td>\n",
       "      <td>1.800000</td>\n",
       "      <td>5000</td>\n",
       "      <td>33</td>\n",
       "      <td>3750</td>\n",
       "      <td>1.333333</td>\n",
       "      <td>10000</td>\n",
       "    </tr>\n",
       "    <tr>\n",
       "      <th>3</th>\n",
       "      <td>10000</td>\n",
       "      <td>46</td>\n",
       "      <td>1750</td>\n",
       "      <td>5.714286</td>\n",
       "      <td>9750</td>\n",
       "      <td>36</td>\n",
       "      <td>5750</td>\n",
       "      <td>1.695652</td>\n",
       "      <td>6750</td>\n",
       "      <td>30</td>\n",
       "      <td>3750</td>\n",
       "      <td>1.800000</td>\n",
       "      <td>10000</td>\n",
       "    </tr>\n",
       "    <tr>\n",
       "      <th>4</th>\n",
       "      <td>10000</td>\n",
       "      <td>57</td>\n",
       "      <td>3750</td>\n",
       "      <td>2.666667</td>\n",
       "      <td>10000</td>\n",
       "      <td>46</td>\n",
       "      <td>1750</td>\n",
       "      <td>5.714286</td>\n",
       "      <td>9750</td>\n",
       "      <td>36</td>\n",
       "      <td>5750</td>\n",
       "      <td>1.695652</td>\n",
       "      <td>11000</td>\n",
       "    </tr>\n",
       "    <tr>\n",
       "      <th>5</th>\n",
       "      <td>11000</td>\n",
       "      <td>52</td>\n",
       "      <td>1750</td>\n",
       "      <td>6.285714</td>\n",
       "      <td>10000</td>\n",
       "      <td>57</td>\n",
       "      <td>3750</td>\n",
       "      <td>2.666667</td>\n",
       "      <td>10000</td>\n",
       "      <td>46</td>\n",
       "      <td>1750</td>\n",
       "      <td>5.714286</td>\n",
       "      <td>10000</td>\n",
       "    </tr>\n",
       "    <tr>\n",
       "      <th>...</th>\n",
       "      <td>...</td>\n",
       "      <td>...</td>\n",
       "      <td>...</td>\n",
       "      <td>...</td>\n",
       "      <td>...</td>\n",
       "      <td>...</td>\n",
       "      <td>...</td>\n",
       "      <td>...</td>\n",
       "      <td>...</td>\n",
       "      <td>...</td>\n",
       "      <td>...</td>\n",
       "      <td>...</td>\n",
       "      <td>...</td>\n",
       "    </tr>\n",
       "    <tr>\n",
       "      <th>1211</th>\n",
       "      <td>11000</td>\n",
       "      <td>41</td>\n",
       "      <td>3750</td>\n",
       "      <td>2.933333</td>\n",
       "      <td>11250</td>\n",
       "      <td>45</td>\n",
       "      <td>2750</td>\n",
       "      <td>4.090909</td>\n",
       "      <td>11500</td>\n",
       "      <td>35</td>\n",
       "      <td>6750</td>\n",
       "      <td>1.703704</td>\n",
       "      <td>11000</td>\n",
       "    </tr>\n",
       "    <tr>\n",
       "      <th>1212</th>\n",
       "      <td>11000</td>\n",
       "      <td>40</td>\n",
       "      <td>4750</td>\n",
       "      <td>2.315789</td>\n",
       "      <td>11000</td>\n",
       "      <td>41</td>\n",
       "      <td>3750</td>\n",
       "      <td>2.933333</td>\n",
       "      <td>11250</td>\n",
       "      <td>45</td>\n",
       "      <td>2750</td>\n",
       "      <td>4.090909</td>\n",
       "      <td>11000</td>\n",
       "    </tr>\n",
       "    <tr>\n",
       "      <th>1213</th>\n",
       "      <td>11000</td>\n",
       "      <td>37</td>\n",
       "      <td>2750</td>\n",
       "      <td>4.000000</td>\n",
       "      <td>11000</td>\n",
       "      <td>40</td>\n",
       "      <td>4750</td>\n",
       "      <td>2.315789</td>\n",
       "      <td>11000</td>\n",
       "      <td>41</td>\n",
       "      <td>3750</td>\n",
       "      <td>2.933333</td>\n",
       "      <td>10250</td>\n",
       "    </tr>\n",
       "    <tr>\n",
       "      <th>1214</th>\n",
       "      <td>10250</td>\n",
       "      <td>45</td>\n",
       "      <td>2750</td>\n",
       "      <td>3.727273</td>\n",
       "      <td>11000</td>\n",
       "      <td>37</td>\n",
       "      <td>2750</td>\n",
       "      <td>4.000000</td>\n",
       "      <td>11000</td>\n",
       "      <td>40</td>\n",
       "      <td>4750</td>\n",
       "      <td>2.315789</td>\n",
       "      <td>8750</td>\n",
       "    </tr>\n",
       "    <tr>\n",
       "      <th>1215</th>\n",
       "      <td>8750</td>\n",
       "      <td>36</td>\n",
       "      <td>3750</td>\n",
       "      <td>2.333333</td>\n",
       "      <td>10250</td>\n",
       "      <td>45</td>\n",
       "      <td>2750</td>\n",
       "      <td>3.727273</td>\n",
       "      <td>11000</td>\n",
       "      <td>37</td>\n",
       "      <td>2750</td>\n",
       "      <td>4.000000</td>\n",
       "      <td>9000</td>\n",
       "    </tr>\n",
       "  </tbody>\n",
       "</table>\n",
       "<p>1215 rows × 13 columns</p>\n",
       "</div>"
      ],
      "text/plain": [
       "          H  Zmax  H_zmax        k1    H-1  Zmax -1  H_zmax -1     k1 -1  \\\n",
       "1      6750    30    3750  1.800000   5000       33       3750  1.333333   \n",
       "2      9750    36    5750  1.695652   6750       30       3750  1.800000   \n",
       "3     10000    46    1750  5.714286   9750       36       5750  1.695652   \n",
       "4     10000    57    3750  2.666667  10000       46       1750  5.714286   \n",
       "5     11000    52    1750  6.285714  10000       57       3750  2.666667   \n",
       "...     ...   ...     ...       ...    ...      ...        ...       ...   \n",
       "1211  11000    41    3750  2.933333  11250       45       2750  4.090909   \n",
       "1212  11000    40    4750  2.315789  11000       41       3750  2.933333   \n",
       "1213  11000    37    2750  4.000000  11000       40       4750  2.315789   \n",
       "1214  10250    45    2750  3.727273  11000       37       2750  4.000000   \n",
       "1215   8750    36    3750  2.333333  10250       45       2750  3.727273   \n",
       "\n",
       "       H -2  Zmax -2  H_zmax -2     k1 -2   H +1  \n",
       "1      5500       33       4750  1.157895   9750  \n",
       "2      5000       33       3750  1.333333  10000  \n",
       "3      6750       30       3750  1.800000  10000  \n",
       "4      9750       36       5750  1.695652  11000  \n",
       "5     10000       46       1750  5.714286  10000  \n",
       "...     ...      ...        ...       ...    ...  \n",
       "1211  11500       35       6750  1.703704  11000  \n",
       "1212  11250       45       2750  4.090909  11000  \n",
       "1213  11000       41       3750  2.933333  10250  \n",
       "1214  11000       40       4750  2.315789   8750  \n",
       "1215  11000       37       2750  4.000000   9000  \n",
       "\n",
       "[1215 rows x 13 columns]"
      ]
     },
     "execution_count": 25,
     "metadata": {},
     "output_type": "execute_result"
    }
   ],
   "source": [
    "#get data from excel\n",
    "df = pd.read_excel('Копия Расчёт регрессии_220322.xlsx',sheet_name = 9)\n",
    "df = df.drop(0)\n",
    "\n",
    "#split data to features and target\n",
    "X = df.loc[:, df.columns != 'H +1']\n",
    "y = df['H +1']\n",
    "df"
   ]
  },
  {
   "cell_type": "code",
   "execution_count": 3,
   "id": "3179374f",
   "metadata": {
    "scrolled": true
   },
   "outputs": [
    {
     "data": {
      "text/html": [
       "<div>\n",
       "<style scoped>\n",
       "    .dataframe tbody tr th:only-of-type {\n",
       "        vertical-align: middle;\n",
       "    }\n",
       "\n",
       "    .dataframe tbody tr th {\n",
       "        vertical-align: top;\n",
       "    }\n",
       "\n",
       "    .dataframe thead th {\n",
       "        text-align: right;\n",
       "    }\n",
       "</style>\n",
       "<table border=\"1\" class=\"dataframe\">\n",
       "  <thead>\n",
       "    <tr style=\"text-align: right;\">\n",
       "      <th></th>\n",
       "      <th>H</th>\n",
       "      <th>Zmax</th>\n",
       "      <th>H_zmax</th>\n",
       "      <th>k1</th>\n",
       "      <th>H-1</th>\n",
       "      <th>Zmax -1</th>\n",
       "      <th>H_zmax -1</th>\n",
       "      <th>k1 -1</th>\n",
       "      <th>H -2</th>\n",
       "      <th>Zmax -2</th>\n",
       "      <th>H_zmax -2</th>\n",
       "      <th>k1 -2</th>\n",
       "      <th>H +1</th>\n",
       "    </tr>\n",
       "  </thead>\n",
       "  <tbody>\n",
       "    <tr>\n",
       "      <th>count</th>\n",
       "      <td>1215.000000</td>\n",
       "      <td>1215.000000</td>\n",
       "      <td>1215.000000</td>\n",
       "      <td>1215.000000</td>\n",
       "      <td>1215.000000</td>\n",
       "      <td>1215.000000</td>\n",
       "      <td>1215.000000</td>\n",
       "      <td>1215.000000</td>\n",
       "      <td>1215.000000</td>\n",
       "      <td>1215.000000</td>\n",
       "      <td>1215.000000</td>\n",
       "      <td>1215.000000</td>\n",
       "      <td>1215.000000</td>\n",
       "    </tr>\n",
       "    <tr>\n",
       "      <th>mean</th>\n",
       "      <td>9520.370370</td>\n",
       "      <td>42.604938</td>\n",
       "      <td>3468.724280</td>\n",
       "      <td>3.190002</td>\n",
       "      <td>9517.283951</td>\n",
       "      <td>42.602469</td>\n",
       "      <td>3468.724280</td>\n",
       "      <td>3.189179</td>\n",
       "      <td>9513.374486</td>\n",
       "      <td>42.592593</td>\n",
       "      <td>3470.370370</td>\n",
       "      <td>3.187064</td>\n",
       "      <td>9522.222222</td>\n",
       "    </tr>\n",
       "    <tr>\n",
       "      <th>std</th>\n",
       "      <td>2135.240773</td>\n",
       "      <td>10.467978</td>\n",
       "      <td>1422.977632</td>\n",
       "      <td>1.479273</td>\n",
       "      <td>2139.062066</td>\n",
       "      <td>10.469891</td>\n",
       "      <td>1422.977632</td>\n",
       "      <td>1.480028</td>\n",
       "      <td>2142.060388</td>\n",
       "      <td>10.473287</td>\n",
       "      <td>1423.302287</td>\n",
       "      <td>1.481094</td>\n",
       "      <td>2133.811318</td>\n",
       "    </tr>\n",
       "    <tr>\n",
       "      <th>min</th>\n",
       "      <td>3500.000000</td>\n",
       "      <td>-1.000000</td>\n",
       "      <td>1000.000000</td>\n",
       "      <td>0.894737</td>\n",
       "      <td>3500.000000</td>\n",
       "      <td>-1.000000</td>\n",
       "      <td>1000.000000</td>\n",
       "      <td>0.894737</td>\n",
       "      <td>3500.000000</td>\n",
       "      <td>-1.000000</td>\n",
       "      <td>1000.000000</td>\n",
       "      <td>0.894737</td>\n",
       "      <td>3500.000000</td>\n",
       "    </tr>\n",
       "    <tr>\n",
       "      <th>25%</th>\n",
       "      <td>8250.000000</td>\n",
       "      <td>36.000000</td>\n",
       "      <td>2750.000000</td>\n",
       "      <td>2.133333</td>\n",
       "      <td>8125.000000</td>\n",
       "      <td>36.000000</td>\n",
       "      <td>2750.000000</td>\n",
       "      <td>2.133333</td>\n",
       "      <td>8000.000000</td>\n",
       "      <td>36.000000</td>\n",
       "      <td>2750.000000</td>\n",
       "      <td>2.133333</td>\n",
       "      <td>8250.000000</td>\n",
       "    </tr>\n",
       "    <tr>\n",
       "      <th>50%</th>\n",
       "      <td>9750.000000</td>\n",
       "      <td>44.000000</td>\n",
       "      <td>3750.000000</td>\n",
       "      <td>2.818182</td>\n",
       "      <td>9750.000000</td>\n",
       "      <td>44.000000</td>\n",
       "      <td>3750.000000</td>\n",
       "      <td>2.818182</td>\n",
       "      <td>9750.000000</td>\n",
       "      <td>44.000000</td>\n",
       "      <td>3750.000000</td>\n",
       "      <td>2.818182</td>\n",
       "      <td>9750.000000</td>\n",
       "    </tr>\n",
       "    <tr>\n",
       "      <th>75%</th>\n",
       "      <td>11250.000000</td>\n",
       "      <td>50.000000</td>\n",
       "      <td>4750.000000</td>\n",
       "      <td>4.000000</td>\n",
       "      <td>11250.000000</td>\n",
       "      <td>50.000000</td>\n",
       "      <td>4750.000000</td>\n",
       "      <td>4.000000</td>\n",
       "      <td>11250.000000</td>\n",
       "      <td>50.000000</td>\n",
       "      <td>4750.000000</td>\n",
       "      <td>4.000000</td>\n",
       "      <td>11250.000000</td>\n",
       "    </tr>\n",
       "    <tr>\n",
       "      <th>max</th>\n",
       "      <td>15500.000000</td>\n",
       "      <td>69.000000</td>\n",
       "      <td>9750.000000</td>\n",
       "      <td>11.500000</td>\n",
       "      <td>15500.000000</td>\n",
       "      <td>69.000000</td>\n",
       "      <td>9750.000000</td>\n",
       "      <td>11.500000</td>\n",
       "      <td>15500.000000</td>\n",
       "      <td>69.000000</td>\n",
       "      <td>9750.000000</td>\n",
       "      <td>11.500000</td>\n",
       "      <td>15500.000000</td>\n",
       "    </tr>\n",
       "  </tbody>\n",
       "</table>\n",
       "</div>"
      ],
      "text/plain": [
       "                  H         Zmax       H_zmax           k1           H-1  \\\n",
       "count   1215.000000  1215.000000  1215.000000  1215.000000   1215.000000   \n",
       "mean    9520.370370    42.604938  3468.724280     3.190002   9517.283951   \n",
       "std     2135.240773    10.467978  1422.977632     1.479273   2139.062066   \n",
       "min     3500.000000    -1.000000  1000.000000     0.894737   3500.000000   \n",
       "25%     8250.000000    36.000000  2750.000000     2.133333   8125.000000   \n",
       "50%     9750.000000    44.000000  3750.000000     2.818182   9750.000000   \n",
       "75%    11250.000000    50.000000  4750.000000     4.000000  11250.000000   \n",
       "max    15500.000000    69.000000  9750.000000    11.500000  15500.000000   \n",
       "\n",
       "           Zmax -1    H_zmax -1        k1 -1          H -2      Zmax -2  \\\n",
       "count  1215.000000  1215.000000  1215.000000   1215.000000  1215.000000   \n",
       "mean     42.602469  3468.724280     3.189179   9513.374486    42.592593   \n",
       "std      10.469891  1422.977632     1.480028   2142.060388    10.473287   \n",
       "min      -1.000000  1000.000000     0.894737   3500.000000    -1.000000   \n",
       "25%      36.000000  2750.000000     2.133333   8000.000000    36.000000   \n",
       "50%      44.000000  3750.000000     2.818182   9750.000000    44.000000   \n",
       "75%      50.000000  4750.000000     4.000000  11250.000000    50.000000   \n",
       "max      69.000000  9750.000000    11.500000  15500.000000    69.000000   \n",
       "\n",
       "         H_zmax -2        k1 -2          H +1  \n",
       "count  1215.000000  1215.000000   1215.000000  \n",
       "mean   3470.370370     3.187064   9522.222222  \n",
       "std    1423.302287     1.481094   2133.811318  \n",
       "min    1000.000000     0.894737   3500.000000  \n",
       "25%    2750.000000     2.133333   8250.000000  \n",
       "50%    3750.000000     2.818182   9750.000000  \n",
       "75%    4750.000000     4.000000  11250.000000  \n",
       "max    9750.000000    11.500000  15500.000000  "
      ]
     },
     "execution_count": 3,
     "metadata": {},
     "output_type": "execute_result"
    }
   ],
   "source": [
    "#description of data\n",
    "df.describe()"
   ]
  },
  {
   "cell_type": "code",
   "execution_count": 4,
   "id": "b5c84cda",
   "metadata": {},
   "outputs": [
    {
     "data": {
      "image/png": "[encoded data removed]",
      "text/plain": [
       "<Figure size 1080x1080 with 16 Axes>"
      ]
     },
     "metadata": {
      "needs_background": "light"
     },
     "output_type": "display_data"
    }
   ],
   "source": [
    "#plot histograms to understand data\n",
    "df.hist(bins = 9,figsize=(15,15))\n",
    "plt.tight_layout()"
   ]
  },
  {
   "cell_type": "code",
   "execution_count": 5,
   "id": "a04725b4",
   "metadata": {},
   "outputs": [
    {
     "name": "stdout",
     "output_type": "stream",
     "text": [
      "\n",
      "Skew in numerical features: \n",
      "\n"
     ]
    },
    {
     "data": {
      "text/html": [
       "<div>\n",
       "<style scoped>\n",
       "    .dataframe tbody tr th:only-of-type {\n",
       "        vertical-align: middle;\n",
       "    }\n",
       "\n",
       "    .dataframe tbody tr th {\n",
       "        vertical-align: top;\n",
       "    }\n",
       "\n",
       "    .dataframe thead th {\n",
       "        text-align: right;\n",
       "    }\n",
       "</style>\n",
       "<table border=\"1\" class=\"dataframe\">\n",
       "  <thead>\n",
       "    <tr style=\"text-align: right;\">\n",
       "      <th></th>\n",
       "      <th>Skew</th>\n",
       "    </tr>\n",
       "  </thead>\n",
       "  <tbody>\n",
       "    <tr>\n",
       "      <th>k1</th>\n",
       "      <td>1.523482</td>\n",
       "    </tr>\n",
       "    <tr>\n",
       "      <th>k1 -1</th>\n",
       "      <td>1.521354</td>\n",
       "    </tr>\n",
       "    <tr>\n",
       "      <th>k1 -2</th>\n",
       "      <td>1.520192</td>\n",
       "    </tr>\n",
       "    <tr>\n",
       "      <th>H_zmax</th>\n",
       "      <td>0.762179</td>\n",
       "    </tr>\n",
       "    <tr>\n",
       "      <th>H_zmax -1</th>\n",
       "      <td>0.762179</td>\n",
       "    </tr>\n",
       "    <tr>\n",
       "      <th>H_zmax -2</th>\n",
       "      <td>0.758894</td>\n",
       "    </tr>\n",
       "    <tr>\n",
       "      <th>H</th>\n",
       "      <td>-0.317413</td>\n",
       "    </tr>\n",
       "    <tr>\n",
       "      <th>H -2</th>\n",
       "      <td>-0.317776</td>\n",
       "    </tr>\n",
       "    <tr>\n",
       "      <th>H +1</th>\n",
       "      <td>-0.318864</td>\n",
       "    </tr>\n",
       "    <tr>\n",
       "      <th>H-1</th>\n",
       "      <td>-0.319123</td>\n",
       "    </tr>\n",
       "  </tbody>\n",
       "</table>\n",
       "</div>"
      ],
      "text/plain": [
       "               Skew\n",
       "k1         1.523482\n",
       "k1 -1      1.521354\n",
       "k1 -2      1.520192\n",
       "H_zmax     0.762179\n",
       "H_zmax -1  0.762179\n",
       "H_zmax -2  0.758894\n",
       "H         -0.317413\n",
       "H -2      -0.317776\n",
       "H +1      -0.318864\n",
       "H-1       -0.319123"
      ]
     },
     "execution_count": 5,
     "metadata": {},
     "output_type": "execute_result"
    }
   ],
   "source": [
    "# Check the skew of all numerical features\n",
    "skewed_feats = df.apply(lambda x: skew(x.dropna())).sort_values(ascending=False)\n",
    "print(\"\\nSkew in numerical features: \\n\")\n",
    "skewness = pd.DataFrame({'Skew' :skewed_feats})\n",
    "skewness.head(10)"
   ]
  },
  {
   "cell_type": "code",
   "execution_count": 87,
   "id": "1da58970",
   "metadata": {
    "scrolled": false
   },
   "outputs": [
    {
     "data": {
      "image/png": "[encoded data removed]",
      "text/plain": [
       "<Figure size 864x792 with 2 Axes>"
      ]
     },
     "metadata": {
      "needs_background": "light"
     },
     "output_type": "display_data"
    }
   ],
   "source": [
    "#visualisation of correlation \n",
    "corr = df.corr()\n",
    "fig, ax = plt.subplots(figsize=(12, 11))\n",
    "ax = sns.heatmap(corr, annot=True)"
   ]
  },
  {
   "cell_type": "code",
   "execution_count": 7,
   "id": "8ac5a37b",
   "metadata": {
    "scrolled": true
   },
   "outputs": [
    {
     "data": {
      "text/html": [
       "<div>\n",
       "<style scoped>\n",
       "    .dataframe tbody tr th:only-of-type {\n",
       "        vertical-align: middle;\n",
       "    }\n",
       "\n",
       "    .dataframe tbody tr th {\n",
       "        vertical-align: top;\n",
       "    }\n",
       "\n",
       "    .dataframe thead th {\n",
       "        text-align: right;\n",
       "    }\n",
       "</style>\n",
       "<table border=\"1\" class=\"dataframe\">\n",
       "  <thead>\n",
       "    <tr style=\"text-align: right;\">\n",
       "      <th></th>\n",
       "      <th>H</th>\n",
       "      <th>Zmax</th>\n",
       "      <th>H_zmax</th>\n",
       "      <th>k1</th>\n",
       "      <th>H-1</th>\n",
       "      <th>Zmax -1</th>\n",
       "      <th>H_zmax -1</th>\n",
       "      <th>k1 -1</th>\n",
       "      <th>H -2</th>\n",
       "      <th>Zmax -2</th>\n",
       "      <th>H_zmax -2</th>\n",
       "      <th>k1 -2</th>\n",
       "    </tr>\n",
       "  </thead>\n",
       "  <tbody>\n",
       "    <tr>\n",
       "      <th>1</th>\n",
       "      <td>-1.297451</td>\n",
       "      <td>-1.204143</td>\n",
       "      <td>0.197667</td>\n",
       "      <td>-0.939652</td>\n",
       "      <td>-2.111806</td>\n",
       "      <td>-0.917151</td>\n",
       "      <td>0.197667</td>\n",
       "      <td>-1.253926</td>\n",
       "      <td>-1.873605</td>\n",
       "      <td>-0.915910</td>\n",
       "      <td>0.899057</td>\n",
       "      <td>-1.370048</td>\n",
       "    </tr>\n",
       "    <tr>\n",
       "      <th>2</th>\n",
       "      <td>0.107543</td>\n",
       "      <td>-0.630966</td>\n",
       "      <td>1.603170</td>\n",
       "      <td>-1.010192</td>\n",
       "      <td>-1.293690</td>\n",
       "      <td>-1.203687</td>\n",
       "      <td>0.197667</td>\n",
       "      <td>-0.938617</td>\n",
       "      <td>-2.107025</td>\n",
       "      <td>-0.915910</td>\n",
       "      <td>0.196465</td>\n",
       "      <td>-1.251596</td>\n",
       "    </tr>\n",
       "    <tr>\n",
       "      <th>3</th>\n",
       "      <td>0.224626</td>\n",
       "      <td>0.324328</td>\n",
       "      <td>-1.207836</td>\n",
       "      <td>1.706435</td>\n",
       "      <td>0.108794</td>\n",
       "      <td>-0.630615</td>\n",
       "      <td>1.603170</td>\n",
       "      <td>-1.009121</td>\n",
       "      <td>-1.290054</td>\n",
       "      <td>-1.202353</td>\n",
       "      <td>0.196465</td>\n",
       "      <td>-0.936514</td>\n",
       "    </tr>\n",
       "    <tr>\n",
       "      <th>4</th>\n",
       "      <td>0.224626</td>\n",
       "      <td>1.375152</td>\n",
       "      <td>0.197667</td>\n",
       "      <td>-0.353779</td>\n",
       "      <td>0.225667</td>\n",
       "      <td>0.324505</td>\n",
       "      <td>-1.207836</td>\n",
       "      <td>1.706121</td>\n",
       "      <td>0.110466</td>\n",
       "      <td>-0.629467</td>\n",
       "      <td>1.601648</td>\n",
       "      <td>-1.006967</td>\n",
       "    </tr>\n",
       "    <tr>\n",
       "      <th>5</th>\n",
       "      <td>0.692957</td>\n",
       "      <td>0.897505</td>\n",
       "      <td>-1.207836</td>\n",
       "      <td>2.092725</td>\n",
       "      <td>0.225667</td>\n",
       "      <td>1.375137</td>\n",
       "      <td>0.197667</td>\n",
       "      <td>-0.353042</td>\n",
       "      <td>0.227176</td>\n",
       "      <td>0.325343</td>\n",
       "      <td>-1.208717</td>\n",
       "      <td>1.706321</td>\n",
       "    </tr>\n",
       "  </tbody>\n",
       "</table>\n",
       "</div>"
      ],
      "text/plain": [
       "          H      Zmax    H_zmax        k1       H-1   Zmax -1  H_zmax -1  \\\n",
       "1 -1.297451 -1.204143  0.197667 -0.939652 -2.111806 -0.917151   0.197667   \n",
       "2  0.107543 -0.630966  1.603170 -1.010192 -1.293690 -1.203687   0.197667   \n",
       "3  0.224626  0.324328 -1.207836  1.706435  0.108794 -0.630615   1.603170   \n",
       "4  0.224626  1.375152  0.197667 -0.353779  0.225667  0.324505  -1.207836   \n",
       "5  0.692957  0.897505 -1.207836  2.092725  0.225667  1.375137   0.197667   \n",
       "\n",
       "      k1 -1      H -2   Zmax -2  H_zmax -2     k1 -2  \n",
       "1 -1.253926 -1.873605 -0.915910   0.899057 -1.370048  \n",
       "2 -0.938617 -2.107025 -0.915910   0.196465 -1.251596  \n",
       "3 -1.009121 -1.290054 -1.202353   0.196465 -0.936514  \n",
       "4  1.706121  0.110466 -0.629467   1.601648 -1.006967  \n",
       "5 -0.353042  0.227176  0.325343  -1.208717  1.706321  "
      ]
     },
     "execution_count": 7,
     "metadata": {},
     "output_type": "execute_result"
    }
   ],
   "source": [
    "#normalization of data\n",
    "def z_score(df):\n",
    "    # copy the dataframe\n",
    "    df_std = df.copy()\n",
    "    # apply the z-score method\n",
    "    for column in df_std.columns:\n",
    "        df_std[column] = (df_std[column] - df_std[column].mean()) / df_std[column].std()\n",
    "    return df_std\n",
    "    \n",
    "# call the z_score function\n",
    "X = z_score(X)\n",
    "X.head()"
   ]
  },
  {
   "cell_type": "code",
   "execution_count": 8,
   "id": "c49877a5",
   "metadata": {
    "scrolled": false
   },
   "outputs": [
    {
     "name": "stderr",
     "output_type": "stream",
     "text": [
      "C:\\Users\\lazuli\\anaconda3\\lib\\site-packages\\seaborn\\distributions.py:2619: FutureWarning: `distplot` is a deprecated function and will be removed in a future version. Please adapt your code to use either `displot` (a figure-level function with similar flexibility) or `histplot` (an axes-level function for histograms).\n",
      "  warnings.warn(msg, FutureWarning)\n"
     ]
    },
    {
     "name": "stdout",
     "output_type": "stream",
     "text": [
      "\n",
      " mu = 9522.22 and sigma = 2132.93\n",
      "\n"
     ]
    },
    {
     "data": {
      "image/png": "[encoded data removed]",
      "text/plain": [
       "<Figure size 432x288 with 1 Axes>"
      ]
     },
     "metadata": {
      "needs_background": "light"
     },
     "output_type": "display_data"
    },
    {
     "data": {
      "image/png": "[encoded data removed]",
      "text/plain": [
       "<Figure size 432x288 with 1 Axes>"
      ]
     },
     "metadata": {
      "needs_background": "light"
     },
     "output_type": "display_data"
    }
   ],
   "source": [
    "#analyze the target - Ht+1\n",
    "sns.distplot(y , fit=norm, bins = y.nunique());\n",
    "\n",
    "# Get the fitted parameters used by the function\n",
    "(mu, sigma) = norm.fit(y)\n",
    "print( '\\n mu = {:.2f} and sigma = {:.2f}\\n'.format(mu, sigma))\n",
    "\n",
    "#Now plot the distribution\n",
    "plt.legend(['Normal dist. ($\\mu=$ {:.2f} and $\\sigma=$ {:.2f} )'.format(mu, sigma)],\n",
    "            loc='best')\n",
    "plt.ylabel('Frequency')\n",
    "plt.title('Hmax distribution')\n",
    "\n",
    "#Get also the QQ-plot\n",
    "fig = plt.figure()\n",
    "res = stats.probplot(y, plot=plt)\n",
    "plt.show()"
   ]
  },
  {
   "cell_type": "markdown",
   "id": "881d02c3",
   "metadata": {},
   "source": [
    "K-Fold Cross Validtion"
   ]
  },
  {
   "cell_type": "code",
   "execution_count": 9,
   "id": "2b3b6fde",
   "metadata": {},
   "outputs": [],
   "source": [
    "X_train, X_test, y_train, y_test = train_test_split(X, y, test_size=0.2, random_state=42)\n",
    "folds = KFold(n_splits = 5, shuffle = True, random_state = 100)"
   ]
  },
  {
   "cell_type": "markdown",
   "id": "6b78ae10",
   "metadata": {},
   "source": [
    "OLS"
   ]
  },
  {
   "cell_type": "code",
   "execution_count": 10,
   "id": "cbe8f015",
   "metadata": {
    "scrolled": true
   },
   "outputs": [
    {
     "name": "stderr",
     "output_type": "stream",
     "text": [
      "C:\\Users\\lazuli\\anaconda3\\lib\\site-packages\\statsmodels\\tsa\\base\\tsa_model.py:7: FutureWarning: pandas.Int64Index is deprecated and will be removed from pandas in a future version. Use pandas.Index with the appropriate dtype instead.\n",
      "  from pandas import (to_datetime, Int64Index, DatetimeIndex, Period,\n",
      "C:\\Users\\lazuli\\anaconda3\\lib\\site-packages\\statsmodels\\tsa\\base\\tsa_model.py:7: FutureWarning: pandas.Float64Index is deprecated and will be removed from pandas in a future version. Use pandas.Index with the appropriate dtype instead.\n",
      "  from pandas import (to_datetime, Int64Index, DatetimeIndex, Period,\n",
      "C:\\Users\\lazuli\\anaconda3\\lib\\site-packages\\statsmodels\\tsa\\tsatools.py:142: FutureWarning: In a future version of pandas all arguments of concat except for the argument 'objs' will be keyword-only.\n",
      "  x = pd.concat(x[::order], 1)\n"
     ]
    },
    {
     "data": {
      "text/html": [
       "<table class=\"simpletable\">\n",
       "<caption>OLS Regression Results</caption>\n",
       "<tr>\n",
       "  <th>Dep. Variable:</th>          <td>H +1</td>       <th>  R-squared:         </th> <td>   0.752</td> \n",
       "</tr>\n",
       "<tr>\n",
       "  <th>Model:</th>                   <td>OLS</td>       <th>  Adj. R-squared:    </th> <td>   0.749</td> \n",
       "</tr>\n",
       "<tr>\n",
       "  <th>Method:</th>             <td>Least Squares</td>  <th>  F-statistic:       </th> <td>   303.4</td> \n",
       "</tr>\n",
       "<tr>\n",
       "  <th>Date:</th>             <td>Tue, 30 Aug 2022</td> <th>  Prob (F-statistic):</th>  <td>  0.00</td>  \n",
       "</tr>\n",
       "<tr>\n",
       "  <th>Time:</th>                 <td>15:17:24</td>     <th>  Log-Likelihood:    </th> <td> -10191.</td> \n",
       "</tr>\n",
       "<tr>\n",
       "  <th>No. Observations:</th>      <td>  1215</td>      <th>  AIC:               </th> <td>2.041e+04</td>\n",
       "</tr>\n",
       "<tr>\n",
       "  <th>Df Residuals:</th>          <td>  1202</td>      <th>  BIC:               </th> <td>2.047e+04</td>\n",
       "</tr>\n",
       "<tr>\n",
       "  <th>Df Model:</th>              <td>    12</td>      <th>                     </th>     <td> </td>    \n",
       "</tr>\n",
       "<tr>\n",
       "  <th>Covariance Type:</th>      <td>nonrobust</td>    <th>                     </th>     <td> </td>    \n",
       "</tr>\n",
       "</table>\n",
       "<table class=\"simpletable\">\n",
       "<tr>\n",
       "      <td></td>         <th>coef</th>     <th>std err</th>      <th>t</th>      <th>P>|t|</th>  <th>[0.025</th>    <th>0.975]</th>  \n",
       "</tr>\n",
       "<tr>\n",
       "  <th>const</th>     <td> 9522.2222</td> <td>   30.652</td> <td>  310.661</td> <td> 0.000</td> <td> 9462.086</td> <td> 9582.359</td>\n",
       "</tr>\n",
       "<tr>\n",
       "  <th>H</th>         <td> 1411.8299</td> <td>   77.804</td> <td>   18.146</td> <td> 0.000</td> <td> 1259.183</td> <td> 1564.477</td>\n",
       "</tr>\n",
       "<tr>\n",
       "  <th>Zmax</th>      <td>  386.2925</td> <td>   49.431</td> <td>    7.815</td> <td> 0.000</td> <td>  289.313</td> <td>  483.272</td>\n",
       "</tr>\n",
       "<tr>\n",
       "  <th>H_zmax</th>    <td>  204.0682</td> <td>   71.060</td> <td>    2.872</td> <td> 0.004</td> <td>   64.653</td> <td>  343.484</td>\n",
       "</tr>\n",
       "<tr>\n",
       "  <th>k1</th>        <td>   67.4957</td> <td>   69.442</td> <td>    0.972</td> <td> 0.331</td> <td>  -68.745</td> <td>  203.737</td>\n",
       "</tr>\n",
       "<tr>\n",
       "  <th>H-1</th>       <td>  232.8934</td> <td>   91.329</td> <td>    2.550</td> <td> 0.011</td> <td>   53.712</td> <td>  412.075</td>\n",
       "</tr>\n",
       "<tr>\n",
       "  <th>Zmax -1</th>   <td>  -91.3862</td> <td>   57.783</td> <td>   -1.582</td> <td> 0.114</td> <td> -204.753</td> <td>   21.980</td>\n",
       "</tr>\n",
       "<tr>\n",
       "  <th>H_zmax -1</th> <td>   43.3340</td> <td>   72.715</td> <td>    0.596</td> <td> 0.551</td> <td>  -99.328</td> <td>  185.996</td>\n",
       "</tr>\n",
       "<tr>\n",
       "  <th>k1 -1</th>     <td>   13.5135</td> <td>   70.837</td> <td>    0.191</td> <td> 0.849</td> <td> -125.465</td> <td>  152.492</td>\n",
       "</tr>\n",
       "<tr>\n",
       "  <th>H -2</th>      <td>  153.4304</td> <td>   76.163</td> <td>    2.014</td> <td> 0.044</td> <td>    4.003</td> <td>  302.858</td>\n",
       "</tr>\n",
       "<tr>\n",
       "  <th>Zmax -2</th>   <td> -183.5643</td> <td>   51.082</td> <td>   -3.593</td> <td> 0.000</td> <td> -283.785</td> <td>  -83.344</td>\n",
       "</tr>\n",
       "<tr>\n",
       "  <th>H_zmax -2</th> <td> -169.5050</td> <td>   71.923</td> <td>   -2.357</td> <td> 0.019</td> <td> -310.613</td> <td>  -28.397</td>\n",
       "</tr>\n",
       "<tr>\n",
       "  <th>k1 -2</th>     <td> -211.1130</td> <td>   69.723</td> <td>   -3.028</td> <td> 0.003</td> <td> -347.905</td> <td>  -74.321</td>\n",
       "</tr>\n",
       "</table>\n",
       "<table class=\"simpletable\">\n",
       "<tr>\n",
       "  <th>Omnibus:</th>       <td>145.790</td> <th>  Durbin-Watson:     </th> <td>   1.998</td> \n",
       "</tr>\n",
       "<tr>\n",
       "  <th>Prob(Omnibus):</th> <td> 0.000</td>  <th>  Jarque-Bera (JB):  </th> <td>1328.882</td> \n",
       "</tr>\n",
       "<tr>\n",
       "  <th>Skew:</th>          <td>-0.105</td>  <th>  Prob(JB):          </th> <td>2.73e-289</td>\n",
       "</tr>\n",
       "<tr>\n",
       "  <th>Kurtosis:</th>      <td> 8.119</td>  <th>  Cond. No.          </th> <td>    8.71</td> \n",
       "</tr>\n",
       "</table><br/><br/>Notes:<br/>[1] Standard Errors assume that the covariance matrix of the errors is correctly specified."
      ],
      "text/plain": [
       "<class 'statsmodels.iolib.summary.Summary'>\n",
       "\"\"\"\n",
       "                            OLS Regression Results                            \n",
       "==============================================================================\n",
       "Dep. Variable:                   H +1   R-squared:                       0.752\n",
       "Model:                            OLS   Adj. R-squared:                  0.749\n",
       "Method:                 Least Squares   F-statistic:                     303.4\n",
       "Date:                Tue, 30 Aug 2022   Prob (F-statistic):               0.00\n",
       "Time:                        15:17:24   Log-Likelihood:                -10191.\n",
       "No. Observations:                1215   AIC:                         2.041e+04\n",
       "Df Residuals:                    1202   BIC:                         2.047e+04\n",
       "Df Model:                          12                                         \n",
       "Covariance Type:            nonrobust                                         \n",
       "==============================================================================\n",
       "                 coef    std err          t      P>|t|      [0.025      0.975]\n",
       "------------------------------------------------------------------------------\n",
       "const       9522.2222     30.652    310.661      0.000    9462.086    9582.359\n",
       "H           1411.8299     77.804     18.146      0.000    1259.183    1564.477\n",
       "Zmax         386.2925     49.431      7.815      0.000     289.313     483.272\n",
       "H_zmax       204.0682     71.060      2.872      0.004      64.653     343.484\n",
       "k1            67.4957     69.442      0.972      0.331     -68.745     203.737\n",
       "H-1          232.8934     91.329      2.550      0.011      53.712     412.075\n",
       "Zmax -1      -91.3862     57.783     -1.582      0.114    -204.753      21.980\n",
       "H_zmax -1     43.3340     72.715      0.596      0.551     -99.328     185.996\n",
       "k1 -1         13.5135     70.837      0.191      0.849    -125.465     152.492\n",
       "H -2         153.4304     76.163      2.014      0.044       4.003     302.858\n",
       "Zmax -2     -183.5643     51.082     -3.593      0.000    -283.785     -83.344\n",
       "H_zmax -2   -169.5050     71.923     -2.357      0.019    -310.613     -28.397\n",
       "k1 -2       -211.1130     69.723     -3.028      0.003    -347.905     -74.321\n",
       "==============================================================================\n",
       "Omnibus:                      145.790   Durbin-Watson:                   1.998\n",
       "Prob(Omnibus):                  0.000   Jarque-Bera (JB):             1328.882\n",
       "Skew:                          -0.105   Prob(JB):                    2.73e-289\n",
       "Kurtosis:                       8.119   Cond. No.                         8.71\n",
       "==============================================================================\n",
       "\n",
       "Notes:\n",
       "[1] Standard Errors assume that the covariance matrix of the errors is correctly specified.\n",
       "\"\"\""
      ]
     },
     "execution_count": 10,
     "metadata": {},
     "output_type": "execute_result"
    }
   ],
   "source": [
    "import statsmodels.api as sm\n",
    "X_ols = sm.add_constant(X)\n",
    "# (1) select a significance value\n",
    "alpha = 0.05\n",
    "\n",
    "# (2) Fit the model\n",
    "model = sm.OLS(y, X_ols).fit()\n",
    "\n",
    "# (3) evaluate the coefficients' p-values\n",
    "model.summary()"
   ]
  },
  {
   "cell_type": "markdown",
   "id": "58cf763d",
   "metadata": {},
   "source": [
    "Linear Regression"
   ]
  },
  {
   "cell_type": "code",
   "execution_count": 11,
   "id": "e3f6eac1",
   "metadata": {
    "scrolled": false
   },
   "outputs": [
    {
     "name": "stdout",
     "output_type": "stream",
     "text": [
      "The R2 on KFold cv:0.745\n",
      "The R2 on test:0.71 \n",
      "\n",
      "The Mean Absolute Error on KFold cv:741.118\n",
      "The Mean Absolute Error on test:730.339 \n",
      "\n",
      "The Median Absolute Error on KFold cv:522.179\n",
      "The Median Absolute Error on test:535.179\n"
     ]
    }
   ],
   "source": [
    "# instantiate the regressor class\n",
    "regressor = LinearRegression()\n",
    "\n",
    "# fit the build the model by fitting the regressor to the training data\n",
    "regressor.fit(X_train, y_train)\n",
    "\n",
    "# make a prediction set using the test set\n",
    "prediction = regressor.predict(X_test)\n",
    "\n",
    "#Scores\n",
    "scores = cross_val_score(regressor, X, y, scoring='r2', cv=folds)\n",
    "print(f\"The R2 on KFold cv:{np.round(np.mean(scores),3)}\")  \n",
    "print(f\"The R2 on test:{np.round(r2_score(y_test, prediction),3)}\",'\\n') \n",
    "\n",
    "scores = cross_val_score(regressor, X, y, scoring='neg_mean_absolute_error', cv=folds)\n",
    "print(f\"The Mean Absolute Error on KFold cv:{abs(np.round(np.mean(scores),3))}\")  \n",
    "print(f\"The Mean Absolute Error on test:{np.round(mean_absolute_error(y_test, prediction),3)}\",'\\n')\n",
    "\n",
    "scores = cross_val_score(regressor, X, y, scoring='neg_median_absolute_error', cv=folds)\n",
    "print(f\"The Median Absolute Error on KFold cv:{abs(np.round(np.mean(scores),3))}\")  \n",
    "print(f\"The Median Absolute Error on test:{np.round(median_absolute_error(y_test, prediction),3)}\")"
   ]
  },
  {
   "cell_type": "markdown",
   "id": "48b86146",
   "metadata": {},
   "source": [
    "Random forest"
   ]
  },
  {
   "cell_type": "markdown",
   "id": "0f836ae7",
   "metadata": {},
   "source": [
    "Optimization of forest parameters"
   ]
  },
  {
   "cell_type": "code",
   "execution_count": 12,
   "id": "46334d0d",
   "metadata": {},
   "outputs": [
    {
     "name": "stdout",
     "output_type": "stream",
     "text": [
      "{'n_estimators': [200, 400, 600, 800, 1000, 1200, 1400, 1600, 1800, 2000], 'max_features': ['auto', 'sqrt'], 'max_depth': [10, 20, 30, 40, 50, 60, 70, 80, 90, 100, 110, None], 'min_samples_split': [2, 5, 10], 'min_samples_leaf': [1, 2, 4], 'bootstrap': [True, False]}\n"
     ]
    }
   ],
   "source": [
    "# Number of trees in random forest\n",
    "n_estimators = [int(x) for x in np.linspace(start = 200, stop = 2000, num = 10)]\n",
    "# Number of features to consider at every split\n",
    "max_features = ['auto', 'sqrt']\n",
    "# Maximum number of levels in tree\n",
    "max_depth = [int(x) for x in np.linspace(10, 110, num = 11)]\n",
    "max_depth.append(None)\n",
    "# Minimum number of samples required to split a node\n",
    "min_samples_split = [2, 5, 10]\n",
    "# Minimum number of samples required at each leaf node\n",
    "min_samples_leaf = [1, 2, 4]\n",
    "# Method of selecting samples for training each tree\n",
    "bootstrap = [True, False]\n",
    "# Create the random grid\n",
    "random_grid = {'n_estimators': n_estimators,\n",
    "               'max_features': max_features,\n",
    "               'max_depth': max_depth,\n",
    "               'min_samples_split': min_samples_split,\n",
    "               'min_samples_leaf': min_samples_leaf,\n",
    "               'bootstrap': bootstrap}\n",
    "print(random_grid)"
   ]
  },
  {
   "cell_type": "code",
   "execution_count": 13,
   "id": "a1510885",
   "metadata": {},
   "outputs": [
    {
     "name": "stdout",
     "output_type": "stream",
     "text": [
      "Fitting 5 folds for each of 100 candidates, totalling 500 fits\n"
     ]
    },
    {
     "data": {
      "text/plain": [
       "RandomizedSearchCV(cv=5, estimator=RandomForestRegressor(), n_iter=100,\n",
       "                   n_jobs=-1,\n",
       "                   param_distributions={'bootstrap': [True, False],\n",
       "                                        'max_depth': [10, 20, 30, 40, 50, 60,\n",
       "                                                      70, 80, 90, 100, 110,\n",
       "                                                      None],\n",
       "                                        'max_features': ['auto', 'sqrt'],\n",
       "                                        'min_samples_leaf': [1, 2, 4],\n",
       "                                        'min_samples_split': [2, 5, 10],\n",
       "                                        'n_estimators': [200, 400, 600, 800,\n",
       "                                                         1000, 1200, 1400, 1600,\n",
       "                                                         1800, 2000]},\n",
       "                   random_state=42, verbose=2)"
      ]
     },
     "execution_count": 13,
     "metadata": {},
     "output_type": "execute_result"
    }
   ],
   "source": [
    "# Use the random grid to search for best hyperparameters\n",
    "# First create the base model to tune\n",
    "rf = RandomForestRegressor()\n",
    "# Random search of parameters, using 3 fold cross validation, \n",
    "# search across 100 different combinations, and use all available cores\n",
    "rf_random = RandomizedSearchCV(estimator = rf, param_distributions = random_grid,\n",
    "                               n_iter = 100, cv = 5, verbose=2, random_state=42, n_jobs = -1)\n",
    "# Fit the random search model\n",
    "rf_random.fit(X_train, y_train)"
   ]
  },
  {
   "cell_type": "code",
   "execution_count": 14,
   "id": "fb636f9f",
   "metadata": {},
   "outputs": [
    {
     "data": {
      "text/plain": [
       "{'n_estimators': 200,\n",
       " 'min_samples_split': 5,\n",
       " 'min_samples_leaf': 4,\n",
       " 'max_features': 'auto',\n",
       " 'max_depth': 80,\n",
       " 'bootstrap': True}"
      ]
     },
     "execution_count": 14,
     "metadata": {},
     "output_type": "execute_result"
    }
   ],
   "source": [
    "#rf best params\n",
    "rf_random.best_params_"
   ]
  },
  {
   "cell_type": "code",
   "execution_count": 15,
   "id": "e12158fa",
   "metadata": {},
   "outputs": [
    {
     "name": "stdout",
     "output_type": "stream",
     "text": [
      "The R2 on KFold cv:0.73\n",
      "The R2 on test:0.726 \n",
      "\n",
      "The Mean Absolute Error on KFold cv:790.192\n",
      "The Mean Absolute Error on test:739.736 \n",
      "\n",
      "The Median Absolute Error on KFold cv:553.421\n",
      "The Median Absolute Error on test:520.552\n"
     ]
    }
   ],
   "source": [
    "# fit the build the model by fitting the regressor to the training data\n",
    "regressor = rf_random.best_estimator_.fit(X_train,y_train)\n",
    "\n",
    "# make a prediction set using the test set\n",
    "prediction = regressor.predict(X_test)\n",
    "\n",
    "#Scores\n",
    "scores = cross_val_score(regressor, X_train, y_train, scoring='r2', cv=folds)\n",
    "print(f\"The R2 on KFold cv:{np.round(np.mean(scores),3)}\")  \n",
    "print(f\"The R2 on test:{np.round(r2_score(y_test, prediction),3)}\",'\\n') \n",
    "\n",
    "scores = cross_val_score(regressor, X_train, y_train, scoring='neg_mean_absolute_error', cv=folds)\n",
    "print(f\"The Mean Absolute Error on KFold cv:{abs(np.round(np.mean(scores),3))}\")  \n",
    "print(f\"The Mean Absolute Error on test:{np.round(mean_absolute_error(y_test, prediction),3)}\",'\\n')\n",
    "\n",
    "scores = cross_val_score(regressor, X_train, y_train, scoring='neg_median_absolute_error', cv=folds)\n",
    "print(f\"The Median Absolute Error on KFold cv:{abs(np.round(np.mean(scores),3))}\")  \n",
    "print(f\"The Median Absolute Error on test:{np.round(median_absolute_error(y_test, prediction),3)}\")"
   ]
  },
  {
   "cell_type": "markdown",
   "id": "26f44cde",
   "metadata": {},
   "source": [
    "CatBoost and tuning hyperparameters\n"
   ]
  },
  {
   "cell_type": "code",
   "execution_count": 16,
   "id": "b156ac5f",
   "metadata": {},
   "outputs": [],
   "source": [
    "#transform data to CB format\n",
    "eval_dataset = Pool(data = X_test,label = y_test)"
   ]
  },
  {
   "cell_type": "code",
   "execution_count": 17,
   "id": "c2b161ab",
   "metadata": {},
   "outputs": [],
   "source": [
    "def objective(trial):\n",
    "    train_x, valid_x, train_y, valid_y = train_test_split(X,y, test_size=0.3)\n",
    "    #define params for tuning\n",
    "    param = {\n",
    "        \"objective\": trial.suggest_categorical(\"objective\", [\"MAE\"]),\n",
    "        \"colsample_bylevel\": trial.suggest_float(\"colsample_bylevel\", 0.01, 0.1),\n",
    "        \"depth\": trial.suggest_int(\"depth\", 1, 12),\n",
    "        \"boosting_type\": trial.suggest_categorical(\"boosting_type\", [\"Ordered\", \"Plain\"]),\n",
    "        \"bootstrap_type\": trial.suggest_categorical(\n",
    "            \"bootstrap_type\", [\"Bayesian\", \"Bernoulli\", \"MVS\"]\n",
    "        ),\n",
    "        \"used_ram_limit\": \"3gb\",\n",
    "    }\n",
    "\n",
    "    if param[\"bootstrap_type\"] == \"Bayesian\":\n",
    "        param[\"bagging_temperature\"] = trial.suggest_float(\"bagging_temperature\", 0, 10)\n",
    "    elif param[\"bootstrap_type\"] == \"Bernoulli\":\n",
    "        param[\"subsample\"] = trial.suggest_float(\"subsample\", 0.1, 1)\n",
    "\n",
    "    gbm = cb.CatBoostRegressor(**param)\n",
    "\n",
    "    gbm.fit(train_x, train_y, eval_set=[(valid_x, valid_y)], verbose=0, early_stopping_rounds=100)\n",
    "\n",
    "    preds = gbm.predict(valid_x)\n",
    "    pred_labels = np.rint(preds)\n",
    "    mae = mean_absolute_error(valid_y, pred_labels)\n",
    "    return mae"
   ]
  },
  {
   "cell_type": "code",
   "execution_count": 18,
   "id": "8a7bcc53",
   "metadata": {
    "scrolled": true
   },
   "outputs": [
    {
     "name": "stderr",
     "output_type": "stream",
     "text": [
      "\u001b[32m[I 2022-08-30 15:20:30,426]\u001b[0m A new study created in memory with name: no-name-9dd9d43a-3af5-4fa0-bd1e-1e12fc5939dc\u001b[0m\n",
      "\u001b[32m[I 2022-08-30 15:20:31,430]\u001b[0m Trial 0 finished with value: 861.4219178082192 and parameters: {'objective': 'MAE', 'colsample_bylevel': 0.04813479519989445, 'depth': 6, 'boosting_type': 'Ordered', 'bootstrap_type': 'MVS'}. Best is trial 0 with value: 861.4219178082192.\u001b[0m\n",
      "\u001b[32m[I 2022-08-30 15:20:32,180]\u001b[0m Trial 1 finished with value: 1042.9671232876713 and parameters: {'objective': 'MAE', 'colsample_bylevel': 0.017757739991471868, 'depth': 4, 'boosting_type': 'Ordered', 'bootstrap_type': 'Bayesian', 'bagging_temperature': 4.101053930900376}. Best is trial 0 with value: 861.4219178082192.\u001b[0m\n",
      "\u001b[32m[I 2022-08-30 15:20:32,928]\u001b[0m Trial 2 finished with value: 958.8438356164384 and parameters: {'objective': 'MAE', 'colsample_bylevel': 0.0196920797717145, 'depth': 7, 'boosting_type': 'Ordered', 'bootstrap_type': 'Bayesian', 'bagging_temperature': 2.9697994822331397}. Best is trial 0 with value: 861.4219178082192.\u001b[0m\n",
      "\u001b[32m[I 2022-08-30 15:20:33,162]\u001b[0m Trial 3 finished with value: 943.4054794520548 and parameters: {'objective': 'MAE', 'colsample_bylevel': 0.035323975864059935, 'depth': 1, 'boosting_type': 'Plain', 'bootstrap_type': 'MVS'}. Best is trial 0 with value: 861.4219178082192.\u001b[0m\n",
      "\u001b[32m[I 2022-08-30 15:20:33,607]\u001b[0m Trial 4 finished with value: 759.9589041095891 and parameters: {'objective': 'MAE', 'colsample_bylevel': 0.09802176545826834, 'depth': 5, 'boosting_type': 'Plain', 'bootstrap_type': 'Bernoulli', 'subsample': 0.9899733569630013}. Best is trial 4 with value: 759.9589041095891.\u001b[0m\n",
      "\u001b[32m[I 2022-08-30 15:20:34,473]\u001b[0m Trial 5 finished with value: 783.7397260273973 and parameters: {'objective': 'MAE', 'colsample_bylevel': 0.05840274465545593, 'depth': 7, 'boosting_type': 'Ordered', 'bootstrap_type': 'MVS'}. Best is trial 4 with value: 759.9589041095891.\u001b[0m\n",
      "\u001b[32m[I 2022-08-30 15:20:35,661]\u001b[0m Trial 6 finished with value: 814.6328767123288 and parameters: {'objective': 'MAE', 'colsample_bylevel': 0.08196956071501582, 'depth': 9, 'boosting_type': 'Ordered', 'bootstrap_type': 'Bayesian', 'bagging_temperature': 7.879339568643985}. Best is trial 4 with value: 759.9589041095891.\u001b[0m\n",
      "\u001b[32m[I 2022-08-30 15:20:35,984]\u001b[0m Trial 7 finished with value: 796.3178082191781 and parameters: {'objective': 'MAE', 'colsample_bylevel': 0.05573420434864977, 'depth': 6, 'boosting_type': 'Plain', 'bootstrap_type': 'Bernoulli', 'subsample': 0.13710793527296197}. Best is trial 4 with value: 759.9589041095891.\u001b[0m\n",
      "\u001b[32m[I 2022-08-30 15:20:36,536]\u001b[0m Trial 8 finished with value: 770.2 and parameters: {'objective': 'MAE', 'colsample_bylevel': 0.08997728889294197, 'depth': 12, 'boosting_type': 'Plain', 'bootstrap_type': 'MVS'}. Best is trial 4 with value: 759.9589041095891.\u001b[0m\n",
      "\u001b[32m[I 2022-08-30 15:20:37,342]\u001b[0m Trial 9 finished with value: 866.0438356164384 and parameters: {'objective': 'MAE', 'colsample_bylevel': 0.05295636613822984, 'depth': 7, 'boosting_type': 'Ordered', 'bootstrap_type': 'Bernoulli', 'subsample': 0.5340264301884086}. Best is trial 4 with value: 759.9589041095891.\u001b[0m\n",
      "\u001b[32m[I 2022-08-30 15:20:37,681]\u001b[0m Trial 10 finished with value: 778.3150684931506 and parameters: {'objective': 'MAE', 'colsample_bylevel': 0.09868837935348837, 'depth': 2, 'boosting_type': 'Plain', 'bootstrap_type': 'Bernoulli', 'subsample': 0.9970676786558743}. Best is trial 4 with value: 759.9589041095891.\u001b[0m\n",
      "\u001b[32m[I 2022-08-30 15:20:38,291]\u001b[0m Trial 11 finished with value: 801.3013698630137 and parameters: {'objective': 'MAE', 'colsample_bylevel': 0.09967777260894564, 'depth': 11, 'boosting_type': 'Plain', 'bootstrap_type': 'Bernoulli', 'subsample': 0.9815029526434076}. Best is trial 4 with value: 759.9589041095891.\u001b[0m\n",
      "\u001b[32m[I 2022-08-30 15:20:38,738]\u001b[0m Trial 12 finished with value: 761.7506849315068 and parameters: {'objective': 'MAE', 'colsample_bylevel': 0.0799410760222456, 'depth': 12, 'boosting_type': 'Plain', 'bootstrap_type': 'MVS'}. Best is trial 4 with value: 759.9589041095891.\u001b[0m\n",
      "\u001b[32m[I 2022-08-30 15:20:39,099]\u001b[0m Trial 13 finished with value: 783.1506849315068 and parameters: {'objective': 'MAE', 'colsample_bylevel': 0.07520688145013978, 'depth': 4, 'boosting_type': 'Plain', 'bootstrap_type': 'MVS'}. Best is trial 4 with value: 759.9589041095891.\u001b[0m\n",
      "\u001b[32m[I 2022-08-30 15:20:39,503]\u001b[0m Trial 14 finished with value: 794.4219178082192 and parameters: {'objective': 'MAE', 'colsample_bylevel': 0.07145171412556786, 'depth': 10, 'boosting_type': 'Plain', 'bootstrap_type': 'Bernoulli', 'subsample': 0.651342451825347}. Best is trial 4 with value: 759.9589041095891.\u001b[0m\n",
      "\u001b[32m[I 2022-08-30 15:20:40,014]\u001b[0m Trial 15 finished with value: 828.9232876712329 and parameters: {'objective': 'MAE', 'colsample_bylevel': 0.08461539745298328, 'depth': 9, 'boosting_type': 'Plain', 'bootstrap_type': 'MVS'}. Best is trial 4 with value: 759.9589041095891.\u001b[0m\n",
      "\u001b[32m[I 2022-08-30 15:20:40,348]\u001b[0m Trial 16 finished with value: 763.1616438356165 and parameters: {'objective': 'MAE', 'colsample_bylevel': 0.06785743502617608, 'depth': 3, 'boosting_type': 'Plain', 'bootstrap_type': 'Bernoulli', 'subsample': 0.6998215641639298}. Best is trial 4 with value: 759.9589041095891.\u001b[0m\n",
      "\u001b[32m[I 2022-08-30 15:20:40,749]\u001b[0m Trial 17 finished with value: 780.813698630137 and parameters: {'objective': 'MAE', 'colsample_bylevel': 0.08595638387029875, 'depth': 5, 'boosting_type': 'Plain', 'bootstrap_type': 'Bernoulli', 'subsample': 0.36644788254093374}. Best is trial 4 with value: 759.9589041095891.\u001b[0m\n",
      "\u001b[32m[I 2022-08-30 15:20:41,338]\u001b[0m Trial 18 finished with value: 758.6575342465753 and parameters: {'objective': 'MAE', 'colsample_bylevel': 0.09387601813798088, 'depth': 9, 'boosting_type': 'Plain', 'bootstrap_type': 'MVS'}. Best is trial 18 with value: 758.6575342465753.\u001b[0m\n",
      "\u001b[32m[I 2022-08-30 15:20:41,922]\u001b[0m Trial 19 finished with value: 814.4684931506849 and parameters: {'objective': 'MAE', 'colsample_bylevel': 0.09205282021033304, 'depth': 9, 'boosting_type': 'Plain', 'bootstrap_type': 'Bayesian', 'bagging_temperature': 9.470029670325705}. Best is trial 18 with value: 758.6575342465753.\u001b[0m\n",
      "\u001b[32m[I 2022-08-30 15:20:42,199]\u001b[0m Trial 20 finished with value: 901.0493150684931 and parameters: {'objective': 'MAE', 'colsample_bylevel': 0.029606738132098187, 'depth': 5, 'boosting_type': 'Plain', 'bootstrap_type': 'MVS'}. Best is trial 18 with value: 758.6575342465753.\u001b[0m\n",
      "\u001b[32m[I 2022-08-30 15:20:42,632]\u001b[0m Trial 21 finished with value: 747.3890410958904 and parameters: {'objective': 'MAE', 'colsample_bylevel': 0.07823947570809058, 'depth': 12, 'boosting_type': 'Plain', 'bootstrap_type': 'MVS'}. Best is trial 21 with value: 747.3890410958904.\u001b[0m\n",
      "\u001b[32m[I 2022-08-30 15:20:43,141]\u001b[0m Trial 22 finished with value: 828.2684931506849 and parameters: {'objective': 'MAE', 'colsample_bylevel': 0.09545232829231685, 'depth': 8, 'boosting_type': 'Plain', 'bootstrap_type': 'MVS'}. Best is trial 21 with value: 747.3890410958904.\u001b[0m\n",
      "\u001b[32m[I 2022-08-30 15:20:43,487]\u001b[0m Trial 23 finished with value: 804.4164383561643 and parameters: {'objective': 'MAE', 'colsample_bylevel': 0.062282428342969334, 'depth': 11, 'boosting_type': 'Plain', 'bootstrap_type': 'MVS'}. Best is trial 21 with value: 747.3890410958904.\u001b[0m\n",
      "\u001b[32m[I 2022-08-30 15:20:43,887]\u001b[0m Trial 24 finished with value: 873.8082191780821 and parameters: {'objective': 'MAE', 'colsample_bylevel': 0.07671772960384145, 'depth': 10, 'boosting_type': 'Plain', 'bootstrap_type': 'MVS'}. Best is trial 21 with value: 747.3890410958904.\u001b[0m\n",
      "\u001b[32m[I 2022-08-30 15:20:44,418]\u001b[0m Trial 25 finished with value: 787.0767123287671 and parameters: {'objective': 'MAE', 'colsample_bylevel': 0.09003007960840442, 'depth': 8, 'boosting_type': 'Plain', 'bootstrap_type': 'Bernoulli', 'subsample': 0.7777380421717643}. Best is trial 21 with value: 747.3890410958904.\u001b[0m\n",
      "\u001b[32m[I 2022-08-30 15:20:44,809]\u001b[0m Trial 26 finished with value: 835.0109589041095 and parameters: {'objective': 'MAE', 'colsample_bylevel': 0.06552837286379237, 'depth': 11, 'boosting_type': 'Plain', 'bootstrap_type': 'MVS'}. Best is trial 21 with value: 747.3890410958904.\u001b[0m\n"
     ]
    },
    {
     "name": "stderr",
     "output_type": "stream",
     "text": [
      "\u001b[32m[I 2022-08-30 15:20:45,310]\u001b[0m Trial 27 finished with value: 779.1671232876712 and parameters: {'objective': 'MAE', 'colsample_bylevel': 0.08973691354259151, 'depth': 10, 'boosting_type': 'Plain', 'bootstrap_type': 'Bayesian', 'bagging_temperature': 0.09064415213938748}. Best is trial 21 with value: 747.3890410958904.\u001b[0m\n",
      "\u001b[32m[I 2022-08-30 15:20:45,826]\u001b[0m Trial 28 finished with value: 733.4684931506849 and parameters: {'objective': 'MAE', 'colsample_bylevel': 0.09939557977642408, 'depth': 8, 'boosting_type': 'Plain', 'bootstrap_type': 'MVS'}. Best is trial 28 with value: 733.4684931506849.\u001b[0m\n",
      "\u001b[32m[I 2022-08-30 15:20:46,644]\u001b[0m Trial 29 finished with value: 814.0904109589042 and parameters: {'objective': 'MAE', 'colsample_bylevel': 0.045617242216930746, 'depth': 8, 'boosting_type': 'Ordered', 'bootstrap_type': 'MVS'}. Best is trial 28 with value: 733.4684931506849.\u001b[0m\n",
      "\u001b[32m[I 2022-08-30 15:20:47,090]\u001b[0m Trial 30 finished with value: 771.9589041095891 and parameters: {'objective': 'MAE', 'colsample_bylevel': 0.0748648846463693, 'depth': 12, 'boosting_type': 'Plain', 'bootstrap_type': 'MVS'}. Best is trial 28 with value: 733.4684931506849.\u001b[0m\n",
      "\u001b[32m[I 2022-08-30 15:20:47,550]\u001b[0m Trial 31 finished with value: 777.8054794520548 and parameters: {'objective': 'MAE', 'colsample_bylevel': 0.09569927895472917, 'depth': 5, 'boosting_type': 'Plain', 'bootstrap_type': 'MVS'}. Best is trial 28 with value: 733.4684931506849.\u001b[0m\n",
      "\u001b[32m[I 2022-08-30 15:20:48,012]\u001b[0m Trial 32 finished with value: 751.8602739726027 and parameters: {'objective': 'MAE', 'colsample_bylevel': 0.09979744892293207, 'depth': 6, 'boosting_type': 'Plain', 'bootstrap_type': 'MVS'}. Best is trial 28 with value: 733.4684931506849.\u001b[0m\n",
      "\u001b[32m[I 2022-08-30 15:20:48,421]\u001b[0m Trial 33 finished with value: 770.7780821917809 and parameters: {'objective': 'MAE', 'colsample_bylevel': 0.08555753449501866, 'depth': 6, 'boosting_type': 'Plain', 'bootstrap_type': 'MVS'}. Best is trial 28 with value: 733.4684931506849.\u001b[0m\n",
      "\u001b[32m[I 2022-08-30 15:20:49,497]\u001b[0m Trial 34 finished with value: 776.6849315068494 and parameters: {'objective': 'MAE', 'colsample_bylevel': 0.09027050763544824, 'depth': 7, 'boosting_type': 'Ordered', 'bootstrap_type': 'MVS'}. Best is trial 28 with value: 733.4684931506849.\u001b[0m\n",
      "\u001b[32m[I 2022-08-30 15:20:50,014]\u001b[0m Trial 35 finished with value: 809.4712328767123 and parameters: {'objective': 'MAE', 'colsample_bylevel': 0.09417436466821621, 'depth': 8, 'boosting_type': 'Plain', 'bootstrap_type': 'MVS'}. Best is trial 28 with value: 733.4684931506849.\u001b[0m\n",
      "\u001b[32m[I 2022-08-30 15:20:50,495]\u001b[0m Trial 36 finished with value: 836.2465753424658 and parameters: {'objective': 'MAE', 'colsample_bylevel': 0.08042931755492498, 'depth': 9, 'boosting_type': 'Plain', 'bootstrap_type': 'MVS'}. Best is trial 28 with value: 733.4684931506849.\u001b[0m\n",
      "\u001b[32m[I 2022-08-30 15:20:51,829]\u001b[0m Trial 37 finished with value: 745.5753424657535 and parameters: {'objective': 'MAE', 'colsample_bylevel': 0.09908483616034809, 'depth': 6, 'boosting_type': 'Ordered', 'bootstrap_type': 'Bayesian', 'bagging_temperature': 0.037326391096315525}. Best is trial 28 with value: 733.4684931506849.\u001b[0m\n",
      "\u001b[32m[I 2022-08-30 15:20:52,898]\u001b[0m Trial 38 finished with value: 809.9589041095891 and parameters: {'objective': 'MAE', 'colsample_bylevel': 0.09883916092230635, 'depth': 4, 'boosting_type': 'Ordered', 'bootstrap_type': 'Bayesian', 'bagging_temperature': 0.967763899796311}. Best is trial 28 with value: 733.4684931506849.\u001b[0m\n",
      "\u001b[32m[I 2022-08-30 15:20:53,784]\u001b[0m Trial 39 finished with value: 816.5287671232877 and parameters: {'objective': 'MAE', 'colsample_bylevel': 0.04412353296758826, 'depth': 6, 'boosting_type': 'Ordered', 'bootstrap_type': 'Bayesian', 'bagging_temperature': 6.342460802343336}. Best is trial 28 with value: 733.4684931506849.\u001b[0m\n",
      "\u001b[32m[I 2022-08-30 15:20:54,903]\u001b[0m Trial 40 finished with value: 801.0520547945206 and parameters: {'objective': 'MAE', 'colsample_bylevel': 0.08688501377987137, 'depth': 6, 'boosting_type': 'Ordered', 'bootstrap_type': 'Bayesian', 'bagging_temperature': 2.311333918551936}. Best is trial 28 with value: 733.4684931506849.\u001b[0m\n",
      "\u001b[32m[I 2022-08-30 15:20:56,087]\u001b[0m Trial 41 finished with value: 798.9561643835616 and parameters: {'objective': 'MAE', 'colsample_bylevel': 0.09426175241773933, 'depth': 7, 'boosting_type': 'Ordered', 'bootstrap_type': 'Bayesian', 'bagging_temperature': 5.348036028281836}. Best is trial 28 with value: 733.4684931506849.\u001b[0m\n",
      "\u001b[32m[I 2022-08-30 15:20:57,225]\u001b[0m Trial 42 finished with value: 787.8082191780821 and parameters: {'objective': 'MAE', 'colsample_bylevel': 0.09428039759903305, 'depth': 7, 'boosting_type': 'Ordered', 'bootstrap_type': 'MVS'}. Best is trial 28 with value: 733.4684931506849.\u001b[0m\n",
      "\u001b[32m[I 2022-08-30 15:20:58,421]\u001b[0m Trial 43 finished with value: 774.4301369863014 and parameters: {'objective': 'MAE', 'colsample_bylevel': 0.09935422583475087, 'depth': 5, 'boosting_type': 'Ordered', 'bootstrap_type': 'Bayesian', 'bagging_temperature': 1.981314009412897}. Best is trial 28 with value: 733.4684931506849.\u001b[0m\n",
      "\u001b[32m[I 2022-08-30 15:20:58,866]\u001b[0m Trial 44 finished with value: 747.8191780821918 and parameters: {'objective': 'MAE', 'colsample_bylevel': 0.0810549915892603, 'depth': 8, 'boosting_type': 'Plain', 'bootstrap_type': 'MVS'}. Best is trial 28 with value: 733.4684931506849.\u001b[0m\n",
      "\u001b[32m[I 2022-08-30 15:20:59,207]\u001b[0m Trial 45 finished with value: 827.9150684931507 and parameters: {'objective': 'MAE', 'colsample_bylevel': 0.08208069790741084, 'depth': 3, 'boosting_type': 'Plain', 'bootstrap_type': 'MVS'}. Best is trial 28 with value: 733.4684931506849.\u001b[0m\n",
      "\u001b[32m[I 2022-08-30 15:20:59,990]\u001b[0m Trial 46 finished with value: 921.9753424657534 and parameters: {'objective': 'MAE', 'colsample_bylevel': 0.021780764372806925, 'depth': 6, 'boosting_type': 'Ordered', 'bootstrap_type': 'MVS'}. Best is trial 28 with value: 733.4684931506849.\u001b[0m\n",
      "\u001b[32m[I 2022-08-30 15:21:00,539]\u001b[0m Trial 47 finished with value: 839.9287671232877 and parameters: {'objective': 'MAE', 'colsample_bylevel': 0.05153939858736055, 'depth': 8, 'boosting_type': 'Plain', 'bootstrap_type': 'Bayesian', 'bagging_temperature': 4.049764937423086}. Best is trial 28 with value: 733.4684931506849.\u001b[0m\n",
      "\u001b[32m[I 2022-08-30 15:21:00,805]\u001b[0m Trial 48 finished with value: 1117.4630136986302 and parameters: {'objective': 'MAE', 'colsample_bylevel': 0.010967022479630134, 'depth': 7, 'boosting_type': 'Plain', 'bootstrap_type': 'MVS'}. Best is trial 28 with value: 733.4684931506849.\u001b[0m\n",
      "\u001b[32m[I 2022-08-30 15:21:01,153]\u001b[0m Trial 49 finished with value: 788.613698630137 and parameters: {'objective': 'MAE', 'colsample_bylevel': 0.07131116911199076, 'depth': 4, 'boosting_type': 'Plain', 'bootstrap_type': 'MVS'}. Best is trial 28 with value: 733.4684931506849.\u001b[0m\n"
     ]
    }
   ],
   "source": [
    "#tuning using optuna\n",
    "study = optuna.create_study(direction=\"minimize\")\n",
    "study.optimize(objective, n_trials=50, timeout=600)"
   ]
  },
  {
   "cell_type": "code",
   "execution_count": 19,
   "id": "8b5af6a7",
   "metadata": {},
   "outputs": [
    {
     "name": "stdout",
     "output_type": "stream",
     "text": [
      "Number of finished trials: 50\n",
      "Best trial:\n",
      "  Value: 733.4684931506849\n",
      " Best Params: \n",
      "    objective: MAE\n",
      "    colsample_bylevel: 0.09939557977642408\n",
      "    depth: 8\n",
      "    boosting_type: Plain\n",
      "    bootstrap_type: MVS\n"
     ]
    }
   ],
   "source": [
    "print(\"Number of finished trials: {}\".format(len(study.trials)))\n",
    "\n",
    "print(\"Best trial:\")\n",
    "trial = study.best_trial\n",
    "\n",
    "print(\"  Value: {}\".format(trial.value))\n",
    "\n",
    "print(\" Best Params: \")\n",
    "for key, value in trial.params.items():\n",
    "    print(\"    {}: {}\".format(key, value))"
   ]
  },
  {
   "cell_type": "code",
   "execution_count": 21,
   "id": "0db9d3a5",
   "metadata": {
    "scrolled": true
   },
   "outputs": [
    {
     "name": "stdout",
     "output_type": "stream",
     "text": [
      "The R2 on KFold cv:0.728\n",
      "The R2 on test:0.723 \n",
      "\n",
      "The Mean Absolute Error on KFold cv:797.469\n",
      "The Mean Absolute Error on test:731.671 \n",
      "\n",
      "The Median Absolute Error on KFold cv:572.067\n",
      "The Median Absolute Error on test:490.402\n"
     ]
    }
   ],
   "source": [
    "#define CB Regressor with best params\n",
    "regressor = CatBoostRegressor(verbose = 0,colsample_bylevel= 0.09939557977642408,\n",
    "    depth= 8,\n",
    "    boosting_type= 'Plain',\n",
    "    bootstrap_type= 'MVS').fit(X_train,y_train,use_best_model=True,eval_set=eval_dataset)\n",
    "#get predictions of CBR\n",
    "prediction = regressor.predict(X_test)\n",
    "\n",
    "#Scores\n",
    "scores = cross_val_score(regressor, X_train, y_train, scoring='r2', cv=folds)\n",
    "print(f\"The R2 on KFold cv:{np.round(np.mean(scores),3)}\")  \n",
    "print(f\"The R2 on test:{np.round(r2_score(y_test, prediction),3)}\",'\\n') \n",
    "\n",
    "scores = cross_val_score(regressor, X_train, y_train, scoring='neg_mean_absolute_error', cv=folds)\n",
    "print(f\"The Mean Absolute Error on KFold cv:{abs(np.round(np.mean(scores),3))}\")  \n",
    "print(f\"The Mean Absolute Error on test:{np.round(mean_absolute_error(y_test, prediction),3)}\",'\\n')\n",
    "\n",
    "scores = cross_val_score(regressor, X_train, y_train, scoring='neg_median_absolute_error', cv=folds)\n",
    "print(f\"The Median Absolute Error on KFold cv:{abs(np.round(np.mean(scores),3))}\")  \n",
    "print(f\"The Median Absolute Error on test:{np.round(median_absolute_error(y_test, prediction),3)}\")"
   ]
  },
  {
   "cell_type": "markdown",
   "id": "c805d60e",
   "metadata": {},
   "source": [
    "XGBRegressor hyperparameter tuning\n",
    " "
   ]
  },
  {
   "cell_type": "code",
   "execution_count": 26,
   "id": "0128ca25",
   "metadata": {},
   "outputs": [
    {
     "name": "stdout",
     "output_type": "stream",
     "text": [
      "Fitting 5 folds for each of 288 candidates, totalling 1440 fits\n"
     ]
    },
    {
     "data": {
      "text/plain": [
       "{'colsample_bytree': 0.7,\n",
       " 'learning_rate': 0.01,\n",
       " 'max_depth': 3,\n",
       " 'min_child_weight': 5,\n",
       " 'n_estimators': 500,\n",
       " 'objective': 'reg:squarederror',\n",
       " 'subsample': 0.5}"
      ]
     },
     "execution_count": 26,
     "metadata": {},
     "output_type": "execute_result"
    }
   ],
   "source": [
    "def hyperParameterTuning(X_train, y_train):\n",
    "    param_tuning = {\n",
    "        'learning_rate': [0.01, 0.1],\n",
    "        'max_depth': [3, 5, 7, 10],\n",
    "        'min_child_weight': [1, 3, 5],\n",
    "        'subsample': [0.5, 0.7],\n",
    "        'colsample_bytree': [0.5, 0.7],\n",
    "        'n_estimators' : [100, 200, 500],\n",
    "        'objective': ['reg:squarederror']\n",
    "    }\n",
    "\n",
    "    xgb_model = XGBRegressor()\n",
    "\n",
    "    gsearch = GridSearchCV(estimator = xgb_model,\n",
    "                           param_grid = param_tuning,                        \n",
    "                           scoring = 'neg_mean_absolute_error', #MAE\n",
    "                           #scoring = 'neg_mean_squared_error',  #MSE\n",
    "                           cv = 5,\n",
    "                           n_jobs = -1,\n",
    "                           verbose = 1)\n",
    "\n",
    "    gsearch.fit(X_train,y_train)\n",
    "\n",
    "    return gsearch.best_params_\n",
    "hyperParameterTuning(X_train, y_train)"
   ]
  },
  {
   "cell_type": "code",
   "execution_count": 27,
   "id": "b68310bb",
   "metadata": {},
   "outputs": [
    {
     "name": "stdout",
     "output_type": "stream",
     "text": [
      "The R2 on KFold cv:0.741\n",
      "The R2 on test:0.734 \n",
      "\n",
      "The Mean Absolute Error on KFold cv:773.798\n",
      "The Mean Absolute Error on test:718.358 \n",
      "\n",
      "The Median Absolute Error on KFold cv:541.581\n",
      "The Median Absolute Error on test:492.329\n"
     ]
    }
   ],
   "source": [
    "regressor = XGBRegressor(subsample=0.5, n_estimators= 500, max_depth= 3,\n",
    "                                     learning_rate= 0.01, colsample_bytree= 0.7,\n",
    "                                     min_child_weight =  5).fit(X_train,y_train)\n",
    "#get predictions of CBR\n",
    "prediction = regressor.predict(X_test)\n",
    "\n",
    "#Scores\n",
    "scores = cross_val_score(regressor, X_train, y_train, scoring='r2', cv=folds)\n",
    "print(f\"The R2 on KFold cv:{np.round(np.mean(scores),3)}\")  \n",
    "print(f\"The R2 on test:{np.round(r2_score(y_test, prediction),3)}\",'\\n') \n",
    "\n",
    "scores = cross_val_score(regressor, X_train, y_train, scoring='neg_mean_absolute_error', cv=folds)\n",
    "print(f\"The Mean Absolute Error on KFold cv:{abs(np.round(np.mean(scores),3))}\")  \n",
    "print(f\"The Mean Absolute Error on test:{np.round(mean_absolute_error(y_test, prediction),3)}\",'\\n')\n",
    "\n",
    "scores = cross_val_score(regressor, X_train, y_train, scoring='neg_median_absolute_error', cv=folds)\n",
    "print(f\"The Median Absolute Error on KFold cv:{abs(np.round(np.mean(scores),3))}\")  \n",
    "print(f\"The Median Absolute Error on test:{np.round(median_absolute_error(y_test, prediction),3)}\")"
   ]
  },
  {
   "cell_type": "markdown",
   "id": "c1260312",
   "metadata": {},
   "source": [
    "Stacking "
   ]
  },
  {
   "cell_type": "code",
   "execution_count": 57,
   "id": "6f27c884",
   "metadata": {
    "scrolled": false
   },
   "outputs": [
    {
     "name": "stdout",
     "output_type": "stream",
     "text": [
      ">lr -743.485 (55.870)\n",
      ">lr 0.741 \n",
      ">rfb -770.454 (62.625)\n",
      ">rfb 0.728 \n",
      ">xgb -764.690 (68.885)\n",
      ">xgb 0.735 \n",
      ">stacking -738.608 (58.702)\n",
      ">stacking 0.745 \n"
     ]
    }
   ],
   "source": [
    "# compare ensemble to each standalone models for regression\n",
    "\n",
    "# get a stacking ensemble of models\n",
    "def get_stacking():\n",
    "    # define the base models\n",
    "    level0 = list()\n",
    "    level0.append(('lr', LinearRegression()))\n",
    "    level0.append(('rfb', rf_random.best_estimator_))\n",
    "    #level0.append(('cb', CatBoostRegressor(verbose = 0,colsample_bylevel= 0.09939557977642408,\n",
    "    #depth= 8,\n",
    "    #boosting_type= 'Plain',\n",
    "    #bootstrap_type= 'MVS')))\n",
    "    level0.append(('xgb',XGBRegressor(subsample=0.7, n_estimators= 500, max_depth= 5,\n",
    "                                     learning_rate= 0.01, colsample_bytree= 0.7,\n",
    "                                     min_child_weight =  3)))\n",
    "    # define meta learner model\n",
    "    level1 = LinearRegression()\n",
    "    # define the stacking ensemble\n",
    "    model = StackingRegressor(estimators=level0, final_estimator=level1, cv=5)\n",
    "    return model\n",
    "\n",
    "# get a list of models to evaluate\n",
    "def get_models():\n",
    "    models = dict()\n",
    "    models['lr'] = LinearRegression()\n",
    "    models['rfb'] = rf_random.best_estimator_\n",
    "    #models['cb'] = CatBoostRegressor(verbose = 0,colsample_bylevel= 0.09939557977642408,\n",
    "    #depth= 8,\n",
    "    #boosting_type= 'Plain',\n",
    "    #bootstrap_type= 'MVS')\n",
    "    models['xgb'] = XGBRegressor(subsample=0.7, n_estimators= 500, max_depth= 5,\n",
    "                                     learning_rate= 0.01, colsample_bytree= 0.7,\n",
    "                                     min_child_weight =  3)\n",
    "\n",
    "    models['stacking'] = get_stacking()\n",
    "    return models\n",
    "\n",
    "# evaluate a given model using cross-validation\n",
    "def evaluate_model(model, X, y, scoring):\n",
    "    cv = RepeatedKFold(n_splits=10, n_repeats=3, random_state=1)\n",
    "    scores = cross_val_score(model, X, y, scoring=scoring, cv=cv, n_jobs=-1, error_score='raise')\n",
    "    return scores\n",
    "\n",
    "\n",
    "# get the models to evaluate\n",
    "models = get_models()\n",
    "# evaluate the models and store results\n",
    "results, names = list(), list()\n",
    "for name, model in models.items():\n",
    "    scores = evaluate_model(model, X, y,'neg_mean_absolute_error')\n",
    "    r2_scores = evaluate_model(model, X, y,'r2')\n",
    "    results.append(scores)\n",
    "    names.append(name)\n",
    "    print('>%s %.3f (%.3f)' % (name, mean(scores), std(scores)))\n",
    "    print('>%s %.3f ' % (name, mean(r2_scores)))"
   ]
  },
  {
   "cell_type": "markdown",
   "id": "faa51632",
   "metadata": {},
   "source": [
    "With Catboost final score is lower\n",
    ">lr -743.485 (55.870)\n",
    ">lr 0.741 \n",
    ">rfb -770.950 (62.961)\n",
    ">rfb 0.728 \n",
    ">cb -777.752 (61.297)\n",
    ">cb 0.728 \n",
    ">xgb -764.690 (68.885)\n",
    ">xgb 0.735 \n",
    ">stacking -740.545 (60.366)\n",
    ">stacking 0.743 "
   ]
  },
  {
   "cell_type": "code",
   "execution_count": 58,
   "id": "208ef8d1",
   "metadata": {},
   "outputs": [],
   "source": [
    "#better for visualization\n",
    "names = ['L R', 'R F', 'XGB', 'stacking']"
   ]
  },
  {
   "cell_type": "code",
   "execution_count": 59,
   "id": "8afa15b7",
   "metadata": {
    "scrolled": false
   },
   "outputs": [
    {
     "data": {
      "image/png": "[encoded data removed]",
      "text/plain": [
       "<Figure size 720x432 with 1 Axes>"
      ]
     },
     "metadata": {
      "needs_background": "light"
     },
     "output_type": "display_data"
    }
   ],
   "source": [
    "# plot model performance for comparison\n",
    "fig, ax = plt.subplots(figsize=(10, 6))\n",
    "plt.boxplot(results, labels = names, showmeans=True)\n",
    "plt.grid(axis='y')\n",
    "for label in (ax.get_xticklabels() + ax.get_yticklabels()):\n",
    "    label.set_fontsize(16)\n",
    "    \n",
    "plt.xlabel('Models', fontsize=16)\n",
    "plt.ylabel('MAE', fontsize=16)\n",
    "\n",
    "fig.suptitle('Performance comparison', fontsize = 16)\n",
    "plt.show()"
   ]
  },
  {
   "cell_type": "code",
   "execution_count": 60,
   "id": "daaa898f",
   "metadata": {},
   "outputs": [
    {
     "data": {
      "text/plain": [
       "Text(0.5, 33.0, '')"
      ]
     },
     "execution_count": 60,
     "metadata": {},
     "output_type": "execute_result"
    },
    {
     "data": {
      "image/png": "[encoded data removed]",
      "text/plain": [
       "<Figure size 504x432 with 2 Axes>"
      ]
     },
     "metadata": {
      "needs_background": "light"
     },
     "output_type": "display_data"
    }
   ],
   "source": [
    "#make data more informational for visualization\n",
    "corr = (pd.DataFrame(np.array(results)).T).corr()\n",
    "corr = corr.set_axis([names], axis=1)\n",
    "corr = corr.set_axis([names], axis=0)\n",
    "\n",
    "#correlation of model's results\n",
    "fig, ax = plt.subplots(figsize=(7, 6))\n",
    "ax = sns.heatmap(corr, annot=True)\n",
    "\n",
    "for label in (ax.get_xticklabels() + ax.get_yticklabels()):\n",
    "    label.set_fontsize(16)\n",
    "    \n",
    "ax.set_title(\"Correlation heatmap\", fontsize = 20)\n",
    "ax.set_ylabel(None)\n",
    "ax.set_xlabel(None)"
   ]
  }
 ],
 "metadata": {
  "kernelspec": {
   "display_name": "Python 3 (ipykernel)",
   "language": "python",
   "name": "python3"
  },
  "language_info": {
   "codemirror_mode": {
    "name": "ipython",
    "version": 3
   },
   "file_extension": ".py",
   "mimetype": "text/x-python",
   "name": "python",
   "nbconvert_exporter": "python",
   "pygments_lexer": "ipython3",
   "version": "3.8.12"
  }
 },
 "nbformat": 4,
 "nbformat_minor": 5
}
